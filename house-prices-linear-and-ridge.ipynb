{
 "cells": [
  {
   "cell_type": "markdown",
   "id": "f439ced9",
   "metadata": {},
   "source": [
    "# Summary\n",
    "I want to try to work linear regression on this next update\n",
    "RandomForest is the one that gets the best score\n",
    "but Linear regression seems to be the one that can tweaked.\n",
    "I am looking ridge, elasticnet,\n",
    "so that the model can generalize better on new data.\n",
    "\n",
    "My goal is to have a base model using linear regression,\n",
    "tweak it using ridge or elasticnet.\n",
    "And then see what I can find that I can further improve.\n",
    "The outliers are the ones that are giving me residual errors.\n",
    "    \n",
    "    ## Scoring\n",
    "    \n",
    "    # Linear Regression and Ridge.\n",
    "    # model_base 54041.72153021133 56164.9518649737\n",
    "    # model_tune 35356.9013863666 81478.5419157793\n",
    "    \n",
    "    # Encoded categorical that are ordered. RandomForest\n",
    "    # model_base 29581.92123767121 45637.69717668411\n",
    "    # model_tune 28454.07259678302 44573.59896205597\n",
    "    \n",
    "    # Include Categorical. RandomForest\n",
    "    # model_base 29761.712624668104 45622.31938365163\n",
    "    # model_tune 30398.282498063614 46175.65530935336\n",
    "    \n",
    "    # Baseline. numeric only. RandomForest\n",
    "    # model_base 30027.52817329832 44130.043234907316\n",
    "    # model_tune 29193.731684252467 44415.39678678987\n",
    "    \n",
    "    \n",
    "\n",
    "\n",
    "\n",
    "\n",
    "\n",
    "\n",
    "\n",
    "\n",
    "\n",
    "\n",
    "\n",
    "\n",
    "\n",
    "\n",
    "\n",
    "\n",
    "\n",
    "\n",
    "\n",
    "\n",
    "\n",
    "\n",
    "\n",
    "\n",
    "\n",
    "\n",
    "\n",
    "\n",
    "\n",
    "\n",
    "\n",
    "\n",
    "\n",
    "\n",
    "\n",
    "\n",
    "\n",
    "\n"
   ]
  },
  {
   "cell_type": "code",
   "execution_count": 4,
   "id": "a5eb9536",
   "metadata": {
    "execution": {
     "iopub.execute_input": "2023-09-08T05:39:37.262339Z",
     "iopub.status.busy": "2023-09-08T05:39:37.261737Z",
     "iopub.status.idle": "2023-09-08T05:39:37.271197Z",
     "shell.execute_reply": "2023-09-08T05:39:37.269396Z",
     "shell.execute_reply.started": "2023-09-08T05:39:37.262287Z"
    }
   },
   "outputs": [],
   "source": [
    "import pandas as pd\n",
    "import numpy as np\n",
    "import seaborn as sns"
   ]
  },
  {
   "cell_type": "code",
   "execution_count": 5,
   "id": "cdb651ed",
   "metadata": {
    "execution": {
     "iopub.execute_input": "2023-09-08T05:39:37.274814Z",
     "iopub.status.busy": "2023-09-08T05:39:37.274311Z",
     "iopub.status.idle": "2023-09-08T05:39:37.353088Z",
     "shell.execute_reply": "2023-09-08T05:39:37.351778Z",
     "shell.execute_reply.started": "2023-09-08T05:39:37.274741Z"
    }
   },
   "outputs": [],
   "source": [
    "df = pd.read_csv('/kaggle/input/house-prices-advanced-regression-techniques/train.csv')"
   ]
  },
  {
   "cell_type": "code",
   "execution_count": 6,
   "id": "0923c857",
   "metadata": {
    "execution": {
     "iopub.execute_input": "2023-09-08T05:39:37.355153Z",
     "iopub.status.busy": "2023-09-08T05:39:37.354744Z",
     "iopub.status.idle": "2023-09-08T05:39:37.385620Z",
     "shell.execute_reply": "2023-09-08T05:39:37.384739Z",
     "shell.execute_reply.started": "2023-09-08T05:39:37.355111Z"
    }
   },
   "outputs": [],
   "source": [
    "num = [x for x in df.columns if df.dtypes[x] in ('int64', 'float')]\n",
    "cat = [x for x in df.columns if df.dtypes[x] == 'object']\n",
    "target = 'SalePrice'\n",
    "num.remove(target)"
   ]
  },
  {
   "cell_type": "code",
   "execution_count": 7,
   "id": "d31b96e2",
   "metadata": {
    "execution": {
     "iopub.execute_input": "2023-09-08T05:39:37.388368Z",
     "iopub.status.busy": "2023-09-08T05:39:37.387143Z",
     "iopub.status.idle": "2023-09-08T05:39:37.620893Z",
     "shell.execute_reply": "2023-09-08T05:39:37.619509Z",
     "shell.execute_reply.started": "2023-09-08T05:39:37.388323Z"
    }
   },
   "outputs": [],
   "source": [
    "from sklearn.model_selection import train_test_split\n",
    "train, test = train_test_split(df, test_size=.2, random_state=0)"
   ]
  },
  {
   "cell_type": "markdown",
   "id": "52c6df57",
   "metadata": {},
   "source": [
    "# Explore"
   ]
  },
  {
   "cell_type": "code",
   "execution_count": 8,
   "id": "bab682a9",
   "metadata": {
    "execution": {
     "iopub.execute_input": "2023-09-08T05:39:37.624916Z",
     "iopub.status.busy": "2023-09-08T05:39:37.624264Z",
     "iopub.status.idle": "2023-09-08T05:39:37.648674Z",
     "shell.execute_reply": "2023-09-08T05:39:37.647435Z",
     "shell.execute_reply.started": "2023-09-08T05:39:37.624884Z"
    },
    "scrolled": true
   },
   "outputs": [
    {
     "data": {
      "text/plain": [
       "SalePrice        1.000000\n",
       "OverallQual      0.790982\n",
       "GrLivArea        0.708624\n",
       "GarageCars       0.640409\n",
       "GarageArea       0.623431\n",
       "TotalBsmtSF      0.613581\n",
       "1stFlrSF         0.605852\n",
       "FullBath         0.560664\n",
       "TotRmsAbvGrd     0.533723\n",
       "YearBuilt        0.522897\n",
       "YearRemodAdd     0.507101\n",
       "GarageYrBlt      0.486362\n",
       "MasVnrArea       0.477493\n",
       "Fireplaces       0.466929\n",
       "BsmtFinSF1       0.386420\n",
       "LotFrontage      0.351799\n",
       "WoodDeckSF       0.324413\n",
       "2ndFlrSF         0.319334\n",
       "OpenPorchSF      0.315856\n",
       "HalfBath         0.284108\n",
       "LotArea          0.263843\n",
       "BsmtFullBath     0.227122\n",
       "BsmtUnfSF        0.214479\n",
       "BedroomAbvGr     0.168213\n",
       "ScreenPorch      0.111447\n",
       "PoolArea         0.092404\n",
       "MoSold           0.046432\n",
       "3SsnPorch        0.044584\n",
       "BsmtFinSF2      -0.011378\n",
       "BsmtHalfBath    -0.016844\n",
       "MiscVal         -0.021190\n",
       "Id              -0.021917\n",
       "LowQualFinSF    -0.025606\n",
       "YrSold          -0.028923\n",
       "OverallCond     -0.077856\n",
       "MSSubClass      -0.084284\n",
       "EnclosedPorch   -0.128578\n",
       "KitchenAbvGr    -0.135907\n",
       "Name: SalePrice, dtype: float64"
      ]
     },
     "execution_count": 8,
     "metadata": {},
     "output_type": "execute_result"
    }
   ],
   "source": [
    "corr = df.corr(numeric_only=True)\n",
    "corr[target].sort_values(ascending=False)"
   ]
  },
  {
   "cell_type": "code",
   "execution_count": 9,
   "id": "353c9236",
   "metadata": {
    "execution": {
     "iopub.execute_input": "2023-09-08T05:39:37.651929Z",
     "iopub.status.busy": "2023-09-08T05:39:37.651120Z",
     "iopub.status.idle": "2023-09-08T05:39:37.694622Z",
     "shell.execute_reply": "2023-09-08T05:39:37.692602Z",
     "shell.execute_reply.started": "2023-09-08T05:39:37.651884Z"
    },
    "scrolled": true
   },
   "outputs": [
    {
     "data": {
      "text/plain": [
       "MSZoning                                 {RL, C (all), FV, RH, RM}\n",
       "Street                                                {Grvl, Pave}\n",
       "Alley                                            {Grvl, nan, Pave}\n",
       "LotShape                                      {IR1, IR2, Reg, IR3}\n",
       "LandContour                                   {HLS, Lvl, Bnk, Low}\n",
       "Utilities                                         {NoSeWa, AllPub}\n",
       "LotConfig                      {Inside, FR2, Corner, CulDSac, FR3}\n",
       "LandSlope                                          {Mod, Gtl, Sev}\n",
       "Neighborhood     {SWISU, Somerst, NWAmes, NAmes, IDOTRR, NridgH...\n",
       "Condition1       {Artery, Feedr, Norm, RRAe, RRNn, PosN, PosA, ...\n",
       "Condition2                 {Artery, Feedr, Norm, RRAe, PosN, PosA}\n",
       "BldgType                     {Duplex, TwnhsE, 1Fam, Twnhs, 2fmCon}\n",
       "HouseStyle       {SFoyer, 1Story, SLvl, 1.5Fin, 2Story, 2.5Fin,...\n",
       "RoofStyle               {Flat, Hip, Gable, Gambrel, Mansard, Shed}\n",
       "RoofMatl         {Metal, CompShg, Tar&Grv, WdShngl, Roll, WdSha...\n",
       "Exterior1st      {VinylSd, Plywood, BrkFace, BrkComm, MetalSd, ...\n",
       "Exterior2nd      {CmentBd, Wd Shng, VinylSd, Brk Cmn, BrkFace, ...\n",
       "MasVnrType                     {None, BrkFace, Stone, BrkCmn, nan}\n",
       "ExterQual                                         {Fa, TA, Gd, Ex}\n",
       "ExterCond                                     {Fa, TA, Po, Gd, Ex}\n",
       "Foundation              {BrkTil, PConc, Stone, Wood, CBlock, Slab}\n",
       "BsmtQual                                     {Fa, TA, Gd, nan, Ex}\n",
       "BsmtCond                                     {Fa, TA, Po, Gd, nan}\n",
       "BsmtExposure                                 {No, Gd, nan, Av, Mn}\n",
       "BsmtFinType1                   {Rec, LwQ, Unf, ALQ, nan, GLQ, BLQ}\n",
       "BsmtFinType2                   {Rec, LwQ, Unf, ALQ, nan, GLQ, BLQ}\n",
       "Heating                      {OthW, Wall, Floor, Grav, GasW, GasA}\n",
       "HeatingQC                                     {Fa, TA, Po, Gd, Ex}\n",
       "CentralAir                                                  {N, Y}\n",
       "Electrical                  {Mix, FuseF, SBrkr, nan, FuseP, FuseA}\n",
       "KitchenQual                                       {Fa, TA, Gd, Ex}\n",
       "Functional                      {Maj1, Typ, Mod, Maj2, Min1, Min2}\n",
       "FireplaceQu                              {Fa, TA, Po, Gd, nan, Ex}\n",
       "GarageType       {Detchd, Attchd, nan, Basment, CarPort, 2Types...\n",
       "GarageFinish                                  {nan, Fin, Unf, RFn}\n",
       "GarageQual                               {Fa, TA, Gd, Po, nan, Ex}\n",
       "GarageCond                               {Fa, TA, Gd, Po, nan, Ex}\n",
       "PavedDrive                                               {N, P, Y}\n",
       "PoolQC                                           {Fa, nan, Gd, Ex}\n",
       "Fence                              {MnPrv, nan, MnWw, GdWo, GdPrv}\n",
       "MiscFeature                                {Gar2, Othr, nan, Shed}\n",
       "SaleType         {Oth, Con, WD, COD, New, ConLI, ConLw, ConLD, ...\n",
       "SaleCondition    {Partial, Normal, Alloca, Abnorml, Family, Adj...\n",
       "dtype: object"
      ]
     },
     "execution_count": 9,
     "metadata": {},
     "output_type": "execute_result"
    }
   ],
   "source": [
    "train[cat].apply(lambda x:set(x))"
   ]
  },
  {
   "cell_type": "code",
   "execution_count": 10,
   "id": "1d4c4712",
   "metadata": {
    "execution": {
     "iopub.execute_input": "2023-09-08T05:39:37.696708Z",
     "iopub.status.busy": "2023-09-08T05:39:37.696173Z",
     "iopub.status.idle": "2023-09-08T05:39:37.711125Z",
     "shell.execute_reply": "2023-09-08T05:39:37.710283Z",
     "shell.execute_reply.started": "2023-09-08T05:39:37.696677Z"
    }
   },
   "outputs": [
    {
     "data": {
      "text/plain": [
       "TA    729\n",
       "Gd    388\n",
       "Ex     39\n",
       "Fa     12\n",
       "Name: ExterQual, dtype: int64"
      ]
     },
     "execution_count": 10,
     "metadata": {},
     "output_type": "execute_result"
    }
   ],
   "source": [
    "train['ExterQual'].value_counts()"
   ]
  },
  {
   "cell_type": "markdown",
   "id": "6df88913",
   "metadata": {},
   "source": [
    "# Pipeline"
   ]
  },
  {
   "cell_type": "code",
   "execution_count": 11,
   "id": "0046f049",
   "metadata": {
    "execution": {
     "iopub.execute_input": "2023-09-08T05:39:37.713322Z",
     "iopub.status.busy": "2023-09-08T05:39:37.712795Z",
     "iopub.status.idle": "2023-09-08T05:39:37.722441Z",
     "shell.execute_reply": "2023-09-08T05:39:37.721007Z",
     "shell.execute_reply.started": "2023-09-08T05:39:37.713284Z"
    }
   },
   "outputs": [],
   "source": [
    "num_pk = [x for x in num if x not in ('Id')]\n",
    "cat_pk = ['ExterQual', 'ExterCond', 'BsmtQual', 'BsmtCond'\n",
    "          , 'BsmtExposure', 'BsmtFinType1', 'BsmtFinType2'\n",
    "          , 'HeatingQC', 'KitchenQual', 'FireplaceQu', 'GarageQual', 'GarageCond', 'PoolQC']"
   ]
  },
  {
   "cell_type": "code",
   "execution_count": 12,
   "id": "60a768ff",
   "metadata": {
    "execution": {
     "iopub.execute_input": "2023-09-08T05:39:37.724901Z",
     "iopub.status.busy": "2023-09-08T05:39:37.724273Z",
     "iopub.status.idle": "2023-09-08T05:39:37.741850Z",
     "shell.execute_reply": "2023-09-08T05:39:37.740785Z",
     "shell.execute_reply.started": "2023-09-08T05:39:37.724867Z"
    }
   },
   "outputs": [],
   "source": [
    "blu = {\n",
    "    'ExterQual': {'key': ['Ex','Gd','TA','Fa','Po'], 'val': [5,4,3,2,1]}\n",
    "    , 'ExterCond': {'key': ['Ex','Gd','TA','Fa','Po'], 'val': [5,4,3,2,1]}\n",
    "    , 'BsmtQual': {'key': ['Ex','Gd','TA','Fa','Po'], 'val': [5,4,3,2,1]}\n",
    "    , 'BsmtCond': {'key': ['Ex','Gd','TA','Fa','Po'], 'val': [5,4,3,2,1]}\n",
    "    , 'BsmtExposure': {'key': ['Gd','Av','Mn','No'], 'val': [3,2,1,0]}\n",
    "    , 'BsmtFinType1': {'key': ['GLQ','ALQ','BLQ','Rec','LWQ','Unf'], 'val': [6,5,4,3,2,0]}\n",
    "    , 'BsmtFinType2': {'key': ['GLQ','ALQ','BLQ','Rec','LWQ','Unf'], 'val': [6,5,4,3,2,0]}\n",
    "    , 'HeatingQC': {'key': ['Ex','Gd','TA','Fa','Po'], 'val': [5,4,3,2,1]}\n",
    "    , 'KitchenQual': {'key': ['Ex','Gd','TA','Fa','Po'], 'val': [5,4,3,2,1]}\n",
    "    , 'FireplaceQu': {'key': ['Ex','Gd','TA','Fa','Po'], 'val': [5,4,3,2,1]}\n",
    "    , 'GarageQual': {'key': ['Ex','Gd','TA','Fa','Po'], 'val': [5,4,3,2,1]}\n",
    "    , 'GarageCond': {'key': ['Ex','Gd','TA','Fa','Po'], 'val': [5,4,3,2,1]}\n",
    "    , 'PoolQC': {'key': ['Ex','Gd','TA','Fa','Po'], 'val': [5,4,3,2,1]}\n",
    "}"
   ]
  },
  {
   "cell_type": "code",
   "execution_count": 13,
   "id": "d9fe3bb5",
   "metadata": {
    "execution": {
     "iopub.execute_input": "2023-09-08T05:39:37.744387Z",
     "iopub.status.busy": "2023-09-08T05:39:37.743423Z",
     "iopub.status.idle": "2023-09-08T05:39:38.048428Z",
     "shell.execute_reply": "2023-09-08T05:39:38.046937Z",
     "shell.execute_reply.started": "2023-09-08T05:39:37.744343Z"
    }
   },
   "outputs": [],
   "source": [
    "from sklearn.pipeline import Pipeline, FeatureUnion\n",
    "from sklearn.preprocessing import OneHotEncoder, StandardScaler, PolynomialFeatures\n",
    "from sklearn.impute import SimpleImputer\n",
    "from sklearn.base import BaseEstimator, TransformerMixin"
   ]
  },
  {
   "cell_type": "code",
   "execution_count": 14,
   "id": "3b598d09",
   "metadata": {
    "execution": {
     "iopub.execute_input": "2023-09-08T05:39:38.052408Z",
     "iopub.status.busy": "2023-09-08T05:39:38.051895Z",
     "iopub.status.idle": "2023-09-08T05:39:38.064755Z",
     "shell.execute_reply": "2023-09-08T05:39:38.063784Z",
     "shell.execute_reply.started": "2023-09-08T05:39:38.052360Z"
    }
   },
   "outputs": [],
   "source": [
    "class DataSelect(BaseEstimator, TransformerMixin):\n",
    "    def __init__(self, attributes):\n",
    "        self.attributes = attributes\n",
    "    def fit(self, X, y=None):\n",
    "        return self\n",
    "    def transform(self, X, y=None):\n",
    "        return X[self.attributes]\n",
    "    \n",
    "class CustomEncode(BaseEstimator, TransformerMixin):\n",
    "    def __init__(self, led):\n",
    "        self.led = led\n",
    "    def fit(self, X, y=None):\n",
    "        return self\n",
    "    def transform(self, X, y=None):\n",
    "        dat = {}\n",
    "        for itm in self.led:\n",
    "            dat['y_'+itm] = X[itm].map({x:y for x,y in zip(self.led[itm]['key']\n",
    "                                                               , self.led[itm]['val'])})\n",
    "        return pd.DataFrame(dat).fillna(0)"
   ]
  },
  {
   "cell_type": "code",
   "execution_count": 15,
   "id": "5d8ce4b4",
   "metadata": {
    "execution": {
     "iopub.execute_input": "2023-09-08T05:39:38.067115Z",
     "iopub.status.busy": "2023-09-08T05:39:38.066118Z",
     "iopub.status.idle": "2023-09-08T05:39:38.215460Z",
     "shell.execute_reply": "2023-09-08T05:39:38.214544Z",
     "shell.execute_reply.started": "2023-09-08T05:39:38.067067Z"
    }
   },
   "outputs": [],
   "source": [
    "num_pp = Pipeline([\n",
    "    ('dataselect', DataSelect(num_pk))\n",
    "    , ('impute', SimpleImputer(strategy='median'))\n",
    "    , ('poly', PolynomialFeatures())\n",
    "    , ('scaler', StandardScaler())\n",
    "])\n",
    "\n",
    "cat_pp = Pipeline([\n",
    "    ('dataselect', DataSelect(cat_pk))\n",
    "    , ('customencode', CustomEncode(blu))\n",
    "    , ('poly', PolynomialFeatures())\n",
    "    , ('scaler', StandardScaler())\n",
    "])\n",
    "\n",
    "pipe = FeatureUnion([\n",
    "    ('numeric', num_pp)\n",
    "    , ('categorical', cat_pp)\n",
    "])\n",
    "\n",
    "pipe.fit(train)\n",
    "train_pre = pipe.transform(train)\n",
    "test_pre = pipe.transform(test)"
   ]
  },
  {
   "cell_type": "markdown",
   "id": "8824bf99",
   "metadata": {},
   "source": [
    "# Select Model"
   ]
  },
  {
   "cell_type": "code",
   "execution_count": 16,
   "id": "1de79c92",
   "metadata": {
    "execution": {
     "iopub.execute_input": "2023-09-08T05:39:38.217552Z",
     "iopub.status.busy": "2023-09-08T05:39:38.216699Z",
     "iopub.status.idle": "2023-09-08T05:39:38.417023Z",
     "shell.execute_reply": "2023-09-08T05:39:38.415609Z",
     "shell.execute_reply.started": "2023-09-08T05:39:38.217519Z"
    }
   },
   "outputs": [],
   "source": [
    "from sklearn.model_selection import cross_val_score\n",
    "from sklearn.linear_model import LinearRegression\n",
    "from sklearn.ensemble import RandomForestRegressor\n",
    "from sklearn.tree import DecisionTreeRegressor\n",
    "from sklearn.linear_model import Ridge, Lasso, ElasticNet\n"
   ]
  },
  {
   "cell_type": "code",
   "execution_count": 17,
   "id": "e3b43d48",
   "metadata": {
    "execution": {
     "iopub.execute_input": "2023-09-08T05:39:38.422141Z",
     "iopub.status.busy": "2023-09-08T05:39:38.421683Z",
     "iopub.status.idle": "2023-09-08T05:39:41.367109Z",
     "shell.execute_reply": "2023-09-08T05:39:41.365595Z",
     "shell.execute_reply.started": "2023-09-08T05:39:38.422102Z"
    }
   },
   "outputs": [
    {
     "name": "stdout",
     "output_type": "stream",
     "text": [
      "8166382962445096.0\n",
      "55238.94344870091\n"
     ]
    }
   ],
   "source": [
    "lin_reg = LinearRegression()\n",
    "lin_reg.fit(train_pre, train[target])\n",
    "print(np.sqrt(-cross_val_score(lin_reg, train_pre, train[target], scoring='neg_mean_squared_error').mean()))\n",
    "print(np.sqrt(-cross_val_score(lin_reg, test_pre, test[target], scoring='neg_mean_squared_error').mean()))"
   ]
  },
  {
   "cell_type": "code",
   "execution_count": 18,
   "id": "281a016e",
   "metadata": {
    "execution": {
     "iopub.execute_input": "2023-09-08T05:39:41.376103Z",
     "iopub.status.busy": "2023-09-08T05:39:41.373992Z",
     "iopub.status.idle": "2023-09-08T05:39:42.077372Z",
     "shell.execute_reply": "2023-09-08T05:39:42.075840Z",
     "shell.execute_reply.started": "2023-09-08T05:39:41.376060Z"
    }
   },
   "outputs": [
    {
     "name": "stdout",
     "output_type": "stream",
     "text": [
      "54041.72153021391\n",
      "56164.95239009494\n"
     ]
    }
   ],
   "source": [
    "rid_reg = Ridge()\n",
    "rid_reg.fit(train_pre, train[target])\n",
    "print(np.sqrt(-cross_val_score(rid_reg, train_pre, train[target], scoring='neg_mean_squared_error').mean()))\n",
    "print(np.sqrt(-cross_val_score(rid_reg, test_pre, test[target], scoring='neg_mean_squared_error').mean()))"
   ]
  },
  {
   "cell_type": "code",
   "execution_count": 19,
   "id": "76cc7079",
   "metadata": {
    "execution": {
     "iopub.execute_input": "2023-09-08T05:39:42.088777Z",
     "iopub.status.busy": "2023-09-08T05:39:42.084823Z",
     "iopub.status.idle": "2023-09-08T05:39:42.113287Z",
     "shell.execute_reply": "2023-09-08T05:39:42.110901Z",
     "shell.execute_reply.started": "2023-09-08T05:39:42.088692Z"
    }
   },
   "outputs": [
    {
     "data": {
      "text/plain": [
       "{'alpha': 1.0,\n",
       " 'copy_X': True,\n",
       " 'fit_intercept': True,\n",
       " 'max_iter': None,\n",
       " 'positive': False,\n",
       " 'random_state': None,\n",
       " 'solver': 'auto',\n",
       " 'tol': 0.0001}"
      ]
     },
     "execution_count": 19,
     "metadata": {},
     "output_type": "execute_result"
    }
   ],
   "source": [
    "model_base = rid_reg\n",
    "model_base.get_params()"
   ]
  },
  {
   "cell_type": "markdown",
   "id": "542ae86c",
   "metadata": {},
   "source": [
    "# Tune Model"
   ]
  },
  {
   "cell_type": "code",
   "execution_count": 20,
   "id": "7f651260",
   "metadata": {
    "execution": {
     "iopub.execute_input": "2023-09-08T05:39:42.125620Z",
     "iopub.status.busy": "2023-09-08T05:39:42.121571Z",
     "iopub.status.idle": "2023-09-08T05:39:43.745112Z",
     "shell.execute_reply": "2023-09-08T05:39:43.743472Z",
     "shell.execute_reply.started": "2023-09-08T05:39:42.125542Z"
    }
   },
   "outputs": [
    {
     "data": {
      "text/plain": [
       "{'alpha': 40, 'random_state': 0}"
      ]
     },
     "execution_count": 20,
     "metadata": {},
     "output_type": "execute_result"
    }
   ],
   "source": [
    "from sklearn.model_selection import GridSearchCV\n",
    "params = {\n",
    "    'random_state': [0]\n",
    "    , 'alpha': [20,30,40]\n",
    "}\n",
    "\n",
    "grid = GridSearchCV(rid_reg, param_grid=params, scoring='neg_mean_squared_error')\n",
    "grid.fit(train_pre, train[target])\n",
    "grid.best_params_"
   ]
  },
  {
   "cell_type": "code",
   "execution_count": 21,
   "id": "dc3fb4c4",
   "metadata": {
    "execution": {
     "iopub.execute_input": "2023-09-08T05:39:43.747369Z",
     "iopub.status.busy": "2023-09-08T05:39:43.746937Z",
     "iopub.status.idle": "2023-09-08T05:39:43.860015Z",
     "shell.execute_reply": "2023-09-08T05:39:43.858388Z",
     "shell.execute_reply.started": "2023-09-08T05:39:43.747329Z"
    }
   },
   "outputs": [],
   "source": [
    "# model_tune = RandomForestRegressor(random_state=0, n_estimators=300, max_features=12)\n",
    "model_tune = Ridge(40)\n",
    "model_tune.fit(train_pre, train[target]);"
   ]
  },
  {
   "cell_type": "markdown",
   "id": "ac39dac3",
   "metadata": {},
   "source": [
    "# Validation"
   ]
  },
  {
   "cell_type": "code",
   "execution_count": 22,
   "id": "52509efd",
   "metadata": {
    "execution": {
     "iopub.execute_input": "2023-09-08T05:39:43.862682Z",
     "iopub.status.busy": "2023-09-08T05:39:43.861991Z",
     "iopub.status.idle": "2023-09-08T05:39:44.525288Z",
     "shell.execute_reply": "2023-09-08T05:39:44.523785Z",
     "shell.execute_reply.started": "2023-09-08T05:39:43.862641Z"
    }
   },
   "outputs": [
    {
     "name": "stdout",
     "output_type": "stream",
     "text": [
      "model_base 54041.72153021391 56164.95239009494\n"
     ]
    }
   ],
   "source": [
    "print('model_base'\n",
    ", np.sqrt(-cross_val_score(model_base, train_pre, train[target], scoring='neg_mean_squared_error').mean())\n",
    ", np.sqrt(-cross_val_score(model_base, test_pre, test[target], scoring='neg_mean_squared_error').mean())\n",
    ")"
   ]
  },
  {
   "cell_type": "code",
   "execution_count": 23,
   "id": "90a06ddd",
   "metadata": {
    "execution": {
     "iopub.execute_input": "2023-09-08T05:39:44.530052Z",
     "iopub.status.busy": "2023-09-08T05:39:44.528219Z",
     "iopub.status.idle": "2023-09-08T05:39:45.195898Z",
     "shell.execute_reply": "2023-09-08T05:39:45.194272Z",
     "shell.execute_reply.started": "2023-09-08T05:39:44.530002Z"
    }
   },
   "outputs": [
    {
     "name": "stdout",
     "output_type": "stream",
     "text": [
      "model_tune 35356.901386366335 81478.54188201569\n"
     ]
    }
   ],
   "source": [
    "print('model_tune'\n",
    ", np.sqrt(-cross_val_score(model_tune, train_pre, train[target], scoring='neg_mean_squared_error').mean())\n",
    ", np.sqrt(-cross_val_score(model_tune, test_pre, test[target], scoring='neg_mean_squared_error').mean())\n",
    ")"
   ]
  },
  {
   "cell_type": "markdown",
   "id": "278f9a18",
   "metadata": {},
   "source": [
    "# Submission"
   ]
  },
  {
   "cell_type": "code",
   "execution_count": 24,
   "id": "002b3f28",
   "metadata": {
    "execution": {
     "iopub.execute_input": "2023-09-08T05:39:45.205064Z",
     "iopub.status.busy": "2023-09-08T05:39:45.204008Z",
     "iopub.status.idle": "2023-09-08T05:39:45.373244Z",
     "shell.execute_reply": "2023-09-08T05:39:45.371831Z",
     "shell.execute_reply.started": "2023-09-08T05:39:45.204999Z"
    }
   },
   "outputs": [],
   "source": [
    "samp = pd.read_csv('/kaggle/input/house-prices-advanced-regression-techniques/test.csv')\n",
    "pd.DataFrame({\n",
    "    'Id': samp['Id']\n",
    "    , 'SalePrice': model_tune.predict(pipe.transform(samp))\n",
    "}).to_csv('submission.csv', index=False)"
   ]
  },
  {
   "cell_type": "code",
   "execution_count": 25,
   "id": "a75a99f0",
   "metadata": {
    "execution": {
     "iopub.execute_input": "2023-09-08T05:39:45.375563Z",
     "iopub.status.busy": "2023-09-08T05:39:45.375119Z",
     "iopub.status.idle": "2023-09-08T05:39:45.829393Z",
     "shell.execute_reply": "2023-09-08T05:39:45.827605Z",
     "shell.execute_reply.started": "2023-09-08T05:39:45.375525Z"
    }
   },
   "outputs": [
    {
     "data": {
      "image/png": "[encoded data removed]",
      "text/plain": [
       "<Figure size 640x480 with 1 Axes>"
      ]
     },
     "metadata": {},
     "output_type": "display_data"
    }
   ],
   "source": [
    "X = np.log(model_base.predict(train_pre))\n",
    "Y = np.log(train[target])\n",
    "Xhat = np.log(model_base.predict(test_pre))\n",
    "Yhat = np.log(test[target])\n",
    "sns.scatterplot(x=X, y=Y);\n",
    "sns.scatterplot(x=Xhat, y=Yhat);"
   ]
  },
  {
   "cell_type": "code",
   "execution_count": 26,
   "id": "d9673554",
   "metadata": {
    "execution": {
     "iopub.execute_input": "2023-09-08T05:39:45.832220Z",
     "iopub.status.busy": "2023-09-08T05:39:45.831088Z",
     "iopub.status.idle": "2023-09-08T05:39:46.229984Z",
     "shell.execute_reply": "2023-09-08T05:39:46.228601Z",
     "shell.execute_reply.started": "2023-09-08T05:39:45.832175Z"
    }
   },
   "outputs": [
    {
     "data": {
      "image/png": "[encoded data removed]",
      "text/plain": [
       "<Figure size 640x480 with 1 Axes>"
      ]
     },
     "metadata": {},
     "output_type": "display_data"
    }
   ],
   "source": [
    "X = np.log(model_tune.predict(train_pre))\n",
    "Y = np.log(train[target])\n",
    "Xhat = np.log(model_tune.predict(test_pre))\n",
    "Yhat = np.log(test[target])\n",
    "sns.scatterplot(x=X, y=Y);\n",
    "sns.scatterplot(x=Xhat, y=Yhat);"
   ]
  },
  {
   "cell_type": "code",
   "execution_count": 27,
   "id": "5f97f98e",
   "metadata": {
    "execution": {
     "iopub.execute_input": "2023-09-08T05:39:46.232621Z",
     "iopub.status.busy": "2023-09-08T05:39:46.232169Z",
     "iopub.status.idle": "2023-09-08T05:39:46.251343Z",
     "shell.execute_reply": "2023-09-08T05:39:46.249516Z",
     "shell.execute_reply.started": "2023-09-08T05:39:46.232582Z"
    }
   },
   "outputs": [
    {
     "name": "stdout",
     "output_type": "stream",
     "text": [
      "0.10601129525233967 0.1508538407624852\n"
     ]
    }
   ],
   "source": [
    "from sklearn.metrics import mean_squared_error\n",
    "print(\n",
    "np.sqrt(mean_squared_error(np.log(model_tune.predict(train_pre)), np.log(train[target])))\n",
    ", np.sqrt(mean_squared_error(np.log(model_tune.predict(test_pre)), np.log(test[target])))\n",
    ")"
   ]
  },
  {
   "cell_type": "code",
   "execution_count": null,
   "id": "771a5fdc",
   "metadata": {},
   "outputs": [],
   "source": []
  }
 ],
 "metadata": {
  "kernelspec": {
   "display_name": "Python 3 (ipykernel)",
   "language": "python",
   "name": "python3"
  },
  "language_info": {
   "codemirror_mode": {
    "name": "ipython",
    "version": 3
   },
   "file_extension": ".py",
   "mimetype": "text/x-python",
   "name": "python",
   "nbconvert_exporter": "python",
   "pygments_lexer": "ipython3",
   "version": "3.11.4"
  }
 },
 "nbformat": 4,
 "nbformat_minor": 5
}
