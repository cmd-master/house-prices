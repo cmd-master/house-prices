{
 "cells": [
  {
   "cell_type": "code",
   "execution_count": 25,
   "id": "604da7a0",
   "metadata": {},
   "outputs": [],
   "source": [
    "import pandas as pd\n",
    "import numpy as np\n",
    "import seaborn as sns"
   ]
  },
  {
   "cell_type": "code",
   "execution_count": 26,
   "id": "52cb77c1",
   "metadata": {},
   "outputs": [],
   "source": [
    "df = pd.read_csv('input/train.csv')"
   ]
  },
  {
   "cell_type": "code",
   "execution_count": 27,
   "id": "5f6754a7",
   "metadata": {},
   "outputs": [],
   "source": [
    "num = [x for x in df.columns if df.dtypes[x] in ('int64', 'float')]\n",
    "cat = [x for x in df.columns if df.dtypes[x] == 'object']\n",
    "target = 'SalePrice'\n",
    "num.remove(target)"
   ]
  },
  {
   "cell_type": "code",
   "execution_count": 28,
   "id": "b08e1c15",
   "metadata": {},
   "outputs": [],
   "source": [
    "from sklearn.model_selection import train_test_split\n",
    "train, test = train_test_split(df, test_size=.2, random_state=0)"
   ]
  },
  {
   "cell_type": "markdown",
   "id": "bc52bb78",
   "metadata": {},
   "source": [
    "# Explore"
   ]
  },
  {
   "cell_type": "code",
   "execution_count": 29,
   "id": "b0b9fe62",
   "metadata": {
    "scrolled": true
   },
   "outputs": [
    {
     "data": {
      "text/plain": [
       "SalePrice        1.000000\n",
       "OverallQual      0.790636\n",
       "GrLivArea        0.721707\n",
       "GarageCars       0.660927\n",
       "GarageArea       0.646603\n",
       "TotalBsmtSF      0.635535\n",
       "1stFlrSF         0.620740\n",
       "FullBath         0.578134\n",
       "TotRmsAbvGrd     0.542658\n",
       "YearBuilt        0.521242\n",
       "YearRemodAdd     0.517822\n",
       "GarageYrBlt      0.494154\n",
       "MasVnrArea       0.493482\n",
       "Fireplaces       0.470320\n",
       "BsmtFinSF1       0.401390\n",
       "LotFrontage      0.360274\n",
       "OpenPorchSF      0.320193\n",
       "2ndFlrSF         0.320141\n",
       "WoodDeckSF       0.311813\n",
       "HalfBath         0.283762\n",
       "LotArea          0.252766\n",
       "BsmtFullBath     0.226432\n",
       "BsmtUnfSF        0.206736\n",
       "BedroomAbvGr     0.182258\n",
       "ScreenPorch      0.096740\n",
       "3SsnPorch        0.057561\n",
       "MoSold           0.041369\n",
       "PoolArea         0.027441\n",
       "BsmtHalfBath    -0.010994\n",
       "Id              -0.017389\n",
       "BsmtFinSF2      -0.020622\n",
       "LowQualFinSF    -0.023128\n",
       "MiscVal         -0.024750\n",
       "YrSold          -0.045628\n",
       "OverallCond     -0.053643\n",
       "MSSubClass      -0.084312\n",
       "EnclosedPorch   -0.129519\n",
       "KitchenAbvGr    -0.136104\n",
       "Name: SalePrice, dtype: float64"
      ]
     },
     "execution_count": 29,
     "metadata": {},
     "output_type": "execute_result"
    }
   ],
   "source": [
    "corr = train.corr(numeric_only=True)\n",
    "corr[target].sort_values(ascending=False)"
   ]
  },
  {
   "cell_type": "markdown",
   "id": "90c43cac",
   "metadata": {},
   "source": [
    "# Pipeline"
   ]
  },
  {
   "cell_type": "code",
   "execution_count": 30,
   "id": "ae3550ad",
   "metadata": {},
   "outputs": [],
   "source": [
    "from sklearn.pipeline import Pipeline, FeatureUnion\n",
    "from sklearn.preprocessing import OneHotEncoder, StandardScaler\n",
    "from sklearn.impute import SimpleImputer\n",
    "from sklearn.base import BaseEstimator, TransformerMixin"
   ]
  },
  {
   "cell_type": "code",
   "execution_count": 31,
   "id": "463bc97e",
   "metadata": {},
   "outputs": [],
   "source": [
    "class DataSelect(BaseEstimator, TransformerMixin):\n",
    "    def __init__(self, attributes):\n",
    "        self.attributes = attributes\n",
    "    def fit(self, X, y=None):\n",
    "        return self\n",
    "    def transform(self, X, y=None):\n",
    "        return X[self.attributes]"
   ]
  },
  {
   "cell_type": "code",
   "execution_count": 32,
   "id": "b9484b29",
   "metadata": {},
   "outputs": [],
   "source": [
    "num_pp = Pipeline([\n",
    "    ('dataselect', DataSelect(num))\n",
    "    , ('impute', SimpleImputer(strategy='median'))\n",
    "    , ('scaler', StandardScaler())\n",
    "])\n",
    "\n",
    "cat_pp = Pipeline([\n",
    "    ('dataselect', DataSelect(cat))\n",
    "    , ('encoder', OneHotEncoder(sparse_output=False))\n",
    "])\n",
    "\n",
    "pipe = FeatureUnion([\n",
    "    ('numeric', num_pp)\n",
    "#     , ('categorical', cat_pp)\n",
    "])\n",
    "\n",
    "pipe.fit(train)\n",
    "train_pre = pipe.transform(train)\n",
    "test_pre = pipe.transform(test)"
   ]
  },
  {
   "cell_type": "markdown",
   "id": "5054b02c",
   "metadata": {},
   "source": [
    "# Select Model"
   ]
  },
  {
   "cell_type": "code",
   "execution_count": 33,
   "id": "b16ac0a4",
   "metadata": {},
   "outputs": [],
   "source": [
    "from sklearn.model_selection import cross_val_score\n",
    "from sklearn.linear_model import LinearRegression\n",
    "from sklearn.ensemble import RandomForestRegressor\n",
    "from sklearn.tree import DecisionTreeRegressor"
   ]
  },
  {
   "cell_type": "code",
   "execution_count": 34,
   "id": "efaec9c2",
   "metadata": {},
   "outputs": [
    {
     "data": {
      "text/plain": [
       "32587.37992168873"
      ]
     },
     "execution_count": 34,
     "metadata": {},
     "output_type": "execute_result"
    }
   ],
   "source": [
    "lin_reg = LinearRegression()\n",
    "lin_reg.fit(train_pre, train[target])\n",
    "np.sqrt(-cross_val_score(lin_reg, train_pre, train[target], scoring='neg_mean_squared_error').mean())"
   ]
  },
  {
   "cell_type": "code",
   "execution_count": 35,
   "id": "28466150",
   "metadata": {},
   "outputs": [
    {
     "data": {
      "text/plain": [
       "30027.52817329832"
      ]
     },
     "execution_count": 35,
     "metadata": {},
     "output_type": "execute_result"
    }
   ],
   "source": [
    "ran_reg = RandomForestRegressor(random_state=0)\n",
    "ran_reg.fit(train_pre, train[target])\n",
    "np.sqrt(-cross_val_score(ran_reg, train_pre, train[target], scoring='neg_mean_squared_error').mean())"
   ]
  },
  {
   "cell_type": "code",
   "execution_count": 36,
   "id": "10948731",
   "metadata": {},
   "outputs": [
    {
     "data": {
      "text/plain": [
       "42796.514496954725"
      ]
     },
     "execution_count": 36,
     "metadata": {},
     "output_type": "execute_result"
    }
   ],
   "source": [
    "dec_reg = DecisionTreeRegressor(random_state=0)\n",
    "dec_reg.fit(train_pre, train[target])\n",
    "np.sqrt(-cross_val_score(dec_reg, train_pre, train[target], scoring='neg_mean_squared_error').mean())"
   ]
  },
  {
   "cell_type": "code",
   "execution_count": 37,
   "id": "9fc0fbfa",
   "metadata": {},
   "outputs": [
    {
     "data": {
      "text/plain": [
       "{'bootstrap': True,\n",
       " 'ccp_alpha': 0.0,\n",
       " 'criterion': 'squared_error',\n",
       " 'max_depth': None,\n",
       " 'max_features': 1.0,\n",
       " 'max_leaf_nodes': None,\n",
       " 'max_samples': None,\n",
       " 'min_impurity_decrease': 0.0,\n",
       " 'min_samples_leaf': 1,\n",
       " 'min_samples_split': 2,\n",
       " 'min_weight_fraction_leaf': 0.0,\n",
       " 'n_estimators': 100,\n",
       " 'n_jobs': None,\n",
       " 'oob_score': False,\n",
       " 'random_state': 0,\n",
       " 'verbose': 0,\n",
       " 'warm_start': False}"
      ]
     },
     "execution_count": 37,
     "metadata": {},
     "output_type": "execute_result"
    }
   ],
   "source": [
    "model_base = ran_reg\n",
    "model_base.get_params()"
   ]
  },
  {
   "cell_type": "markdown",
   "id": "015cb852",
   "metadata": {},
   "source": [
    "# Tune Model"
   ]
  },
  {
   "cell_type": "code",
   "execution_count": 38,
   "id": "446b552b",
   "metadata": {},
   "outputs": [],
   "source": [
    "from sklearn.model_selection import GridSearchCV\n",
    "params = {\n",
    "    'random_state': [0]\n",
    "    , 'n_estimators': [300, 600]\n",
    "}\n",
    "grid = GridSearchCV(model_base, param_grid=params, scoring='neg_mean_squared_error')\n",
    "# grid.fit(train_pre, train[target])\n",
    "# grid.best_params_"
   ]
  },
  {
   "cell_type": "code",
   "execution_count": 39,
   "id": "c7f55f18",
   "metadata": {},
   "outputs": [],
   "source": [
    "model_tune = RandomForestRegressor(random_state=0, n_estimators=600)\n",
    "model_tune.fit(train_pre, train[target]);"
   ]
  },
  {
   "cell_type": "markdown",
   "id": "60064d93",
   "metadata": {},
   "source": [
    "# Validation"
   ]
  },
  {
   "cell_type": "code",
   "execution_count": 40,
   "id": "8c04ea31",
   "metadata": {},
   "outputs": [
    {
     "name": "stdout",
     "output_type": "stream",
     "text": [
      "model_base 30027.52817329832 44130.043234907316\n"
     ]
    }
   ],
   "source": [
    "print('model_base'\n",
    ", np.sqrt(-cross_val_score(model_base, train_pre, train[target], scoring='neg_mean_squared_error').mean())\n",
    ", np.sqrt(-cross_val_score(model_base, test_pre, test[target], scoring='neg_mean_squared_error').mean())\n",
    ")"
   ]
  },
  {
   "cell_type": "code",
   "execution_count": 41,
   "id": "8c19125f",
   "metadata": {},
   "outputs": [
    {
     "name": "stdout",
     "output_type": "stream",
     "text": [
      "model_tune 30094.363694681117 44280.99165491881\n"
     ]
    }
   ],
   "source": [
    "print('model_tune'\n",
    ", np.sqrt(-cross_val_score(model_tune, train_pre, train[target], scoring='neg_mean_squared_error').mean())\n",
    ", np.sqrt(-cross_val_score(model_tune, test_pre, test[target], scoring='neg_mean_squared_error').mean())\n",
    ")"
   ]
  },
  {
   "cell_type": "code",
   "execution_count": null,
   "id": "3b0b087d",
   "metadata": {},
   "outputs": [],
   "source": []
  }
 ],
 "metadata": {
  "kernelspec": {
   "display_name": "Python 3 (ipykernel)",
   "language": "python",
   "name": "python3"
  },
  "language_info": {
   "codemirror_mode": {
    "name": "ipython",
    "version": 3
   },
   "file_extension": ".py",
   "mimetype": "text/x-python",
   "name": "python",
   "nbconvert_exporter": "python",
   "pygments_lexer": "ipython3",
   "version": "3.10.11"
  }
 },
 "nbformat": 4,
 "nbformat_minor": 5
}
