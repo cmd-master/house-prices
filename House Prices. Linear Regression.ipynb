{
 "cells": [
  {
   "cell_type": "code",
   "execution_count": 1,
   "id": "65350d6d",
   "metadata": {},
   "outputs": [],
   "source": [
    "import pandas as pd\n",
    "import numpy as np\n",
    "import seaborn as sns"
   ]
  },
  {
   "cell_type": "code",
   "execution_count": 2,
   "id": "b1c3dfb4",
   "metadata": {},
   "outputs": [],
   "source": [
    "df = pd.read_csv('input/train.csv')"
   ]
  },
  {
   "cell_type": "code",
   "execution_count": 3,
   "id": "bd52af3d",
   "metadata": {},
   "outputs": [],
   "source": [
    "num = [x for x in df.columns if df.dtypes[x] in ('float', 'int64')]\n",
    "cat = [x for x in df.columns if df.dtypes[x] == 'object']\n",
    "target = 'SalePrice'\n",
    "num.remove(target)"
   ]
  },
  {
   "cell_type": "code",
   "execution_count": 4,
   "id": "01746880",
   "metadata": {},
   "outputs": [],
   "source": [
    "from sklearn.model_selection import train_test_split\n",
    "train, test = train_test_split(df, test_size=.2, random_state=0)"
   ]
  },
  {
   "cell_type": "markdown",
   "id": "9c0d72d0",
   "metadata": {},
   "source": [
    "# Explore"
   ]
  },
  {
   "cell_type": "code",
   "execution_count": 5,
   "id": "fe98289d",
   "metadata": {},
   "outputs": [
    {
     "data": {
      "text/plain": [
       "SalePrice        1.000000\n",
       "OverallQual      0.790636\n",
       "GrLivArea        0.721707\n",
       "GarageCars       0.660927\n",
       "GarageArea       0.646603\n",
       "TotalBsmtSF      0.635535\n",
       "1stFlrSF         0.620740\n",
       "FullBath         0.578134\n",
       "TotRmsAbvGrd     0.542658\n",
       "YearBuilt        0.521242\n",
       "YearRemodAdd     0.517822\n",
       "GarageYrBlt      0.494154\n",
       "MasVnrArea       0.493482\n",
       "Fireplaces       0.470320\n",
       "BsmtFinSF1       0.401390\n",
       "LotFrontage      0.360274\n",
       "OpenPorchSF      0.320193\n",
       "2ndFlrSF         0.320141\n",
       "WoodDeckSF       0.311813\n",
       "HalfBath         0.283762\n",
       "LotArea          0.252766\n",
       "BsmtFullBath     0.226432\n",
       "BsmtUnfSF        0.206736\n",
       "BedroomAbvGr     0.182258\n",
       "ScreenPorch      0.096740\n",
       "3SsnPorch        0.057561\n",
       "MoSold           0.041369\n",
       "PoolArea         0.027441\n",
       "BsmtHalfBath    -0.010994\n",
       "Id              -0.017389\n",
       "BsmtFinSF2      -0.020622\n",
       "LowQualFinSF    -0.023128\n",
       "MiscVal         -0.024750\n",
       "YrSold          -0.045628\n",
       "OverallCond     -0.053643\n",
       "MSSubClass      -0.084312\n",
       "EnclosedPorch   -0.129519\n",
       "KitchenAbvGr    -0.136104\n",
       "Name: SalePrice, dtype: float64"
      ]
     },
     "execution_count": 5,
     "metadata": {},
     "output_type": "execute_result"
    }
   ],
   "source": [
    "corr = train.corr(numeric_only=True)\n",
    "corr[target].sort_values(ascending=False)"
   ]
  },
  {
   "cell_type": "markdown",
   "id": "b374ab2b",
   "metadata": {},
   "source": [
    "# Pipeline"
   ]
  },
  {
   "cell_type": "code",
   "execution_count": 23,
   "id": "5bacd9f5",
   "metadata": {},
   "outputs": [],
   "source": [
    "from sklearn.base import BaseEstimator, TransformerMixin\n",
    "from sklearn.pipeline import Pipeline, FeatureUnion\n",
    "from sklearn.preprocessing import OneHotEncoder, StandardScaler, PolynomialFeatures\n",
    "from sklearn.impute import SimpleImputer"
   ]
  },
  {
   "cell_type": "code",
   "execution_count": 24,
   "id": "0eabd8f6",
   "metadata": {},
   "outputs": [],
   "source": [
    "num_pk = [x for x in num if x not in ('Id')]\n",
    "cat_pk = ['ExterQual', 'ExterCond', 'BsmtQual', 'BsmtCond'\n",
    "          , 'BsmtExposure', 'BsmtFinType1', 'BsmtFinType2'\n",
    "          , 'HeatingQC', 'KitchenQual', 'FireplaceQu', 'GarageQual', 'GarageCond', 'PoolQC']\n",
    "\n",
    "blu = {\n",
    "    'ExterQual': {'key': ['Ex','Gd','TA','Fa','Po'], 'val': [5,4,3,2,1]}\n",
    "    , 'ExterCond': {'key': ['Ex','Gd','TA','Fa','Po'], 'val': [5,4,3,2,1]}\n",
    "    , 'BsmtQual': {'key': ['Ex','Gd','TA','Fa','Po'], 'val': [5,4,3,2,1]}\n",
    "    , 'BsmtCond': {'key': ['Ex','Gd','TA','Fa','Po'], 'val': [5,4,3,2,1]}\n",
    "    , 'BsmtExposure': {'key': ['Gd','Av','Mn','No'], 'val': [3,2,1,0]}\n",
    "    , 'BsmtFinType1': {'key': ['GLQ','ALQ','BLQ','Rec','LWQ','Unf'], 'val': [6,5,4,3,2,0]}\n",
    "    , 'BsmtFinType2': {'key': ['GLQ','ALQ','BLQ','Rec','LWQ','Unf'], 'val': [6,5,4,3,2,0]}\n",
    "    , 'HeatingQC': {'key': ['Ex','Gd','TA','Fa','Po'], 'val': [5,4,3,2,1]}\n",
    "    , 'KitchenQual': {'key': ['Ex','Gd','TA','Fa','Po'], 'val': [5,4,3,2,1]}\n",
    "    , 'FireplaceQu': {'key': ['Ex','Gd','TA','Fa','Po'], 'val': [5,4,3,2,1]}\n",
    "    , 'GarageQual': {'key': ['Ex','Gd','TA','Fa','Po'], 'val': [5,4,3,2,1]}\n",
    "    , 'GarageCond': {'key': ['Ex','Gd','TA','Fa','Po'], 'val': [5,4,3,2,1]}\n",
    "    , 'PoolQC': {'key': ['Ex','Gd','TA','Fa','Po'], 'val': [5,4,3,2,1]}\n",
    "}"
   ]
  },
  {
   "cell_type": "code",
   "execution_count": 25,
   "id": "0df080ad",
   "metadata": {},
   "outputs": [],
   "source": [
    "class DataSelect(BaseEstimator, TransformerMixin):\n",
    "    def __init__(self, attributes):\n",
    "        self.attributes = attributes\n",
    "    def fit(self, X, y=None):\n",
    "        return self\n",
    "    def transform(self, X, y=None):\n",
    "        return X[self.attributes]"
   ]
  },
  {
   "cell_type": "code",
   "execution_count": 26,
   "id": "dea9d276",
   "metadata": {},
   "outputs": [],
   "source": [
    "class CustomEncode(BaseEstimator, TransformerMixin):\n",
    "    def __init__(self, led):\n",
    "        self.led = led\n",
    "    def fit(self, X, y=None):\n",
    "        return self\n",
    "    def transform(self, X, y=None):\n",
    "        dat = {}\n",
    "        for itm in self.led:\n",
    "            dat['y_'+itm] = X[itm].map({x:y for x,y in zip(self.led[itm]['key']\n",
    "                                                               , self.led[itm]['val'])})\n",
    "        return pd.DataFrame(dat).fillna(0)"
   ]
  },
  {
   "cell_type": "code",
   "execution_count": 30,
   "id": "ab6ba4ef",
   "metadata": {},
   "outputs": [],
   "source": [
    "num_pp = Pipeline([\n",
    "    ('dataselect', DataSelect(num_pk))\n",
    "    , ('impute', SimpleImputer(strategy='median'))\n",
    "    , ('scaler', StandardScaler())\n",
    "    , ('poly', PolynomialFeatures())\n",
    "])\n",
    "\n",
    "cat_pp = Pipeline([\n",
    "    ('dataselect', DataSelect(cat_pk))\n",
    "#     , ('encode', OneHotEncoder(sparse_output=False))\n",
    "    , ('customencode', CustomEncode(blu))\n",
    "    , ('scaler', StandardScaler())\n",
    "    , ('poly', PolynomialFeatures())\n",
    "])\n",
    "\n",
    "pipe = FeatureUnion([\n",
    "    ('num', num_pp)\n",
    "    , ('cat', cat_pp)\n",
    "])\n",
    "\n",
    "pipe.fit(train)\n",
    "train_pre = pipe.transform(train)\n",
    "test_pre = pipe.transform(test)"
   ]
  },
  {
   "cell_type": "markdown",
   "id": "1c173bf6",
   "metadata": {},
   "source": [
    "# Model Select"
   ]
  },
  {
   "cell_type": "code",
   "execution_count": 31,
   "id": "c27965e7",
   "metadata": {},
   "outputs": [],
   "source": [
    "from sklearn.linear_model import LinearRegression, Ridge, Lasso, ElasticNet\n",
    "from sklearn.model_selection import cross_val_score"
   ]
  },
  {
   "cell_type": "code",
   "execution_count": 32,
   "id": "1b23cb96",
   "metadata": {},
   "outputs": [
    {
     "data": {
      "text/plain": [
       "6620014191976436.0"
      ]
     },
     "execution_count": 32,
     "metadata": {},
     "output_type": "execute_result"
    }
   ],
   "source": [
    "lin_reg = LinearRegression()\n",
    "lin_reg.fit(train_pre, train[target])\n",
    "np.sqrt(-cross_val_score(lin_reg, train_pre, train[target], scoring='neg_mean_squared_error').mean())"
   ]
  },
  {
   "cell_type": "code",
   "execution_count": 33,
   "id": "de22003e",
   "metadata": {},
   "outputs": [
    {
     "data": {
      "text/plain": [
       "84968.99106354543"
      ]
     },
     "execution_count": 33,
     "metadata": {},
     "output_type": "execute_result"
    }
   ],
   "source": [
    "rid_reg = Ridge()\n",
    "rid_reg.fit(train_pre, train[target])\n",
    "np.sqrt(-cross_val_score(rid_reg, train_pre, train[target], scoring='neg_mean_squared_error').mean())"
   ]
  },
  {
   "cell_type": "code",
   "execution_count": 34,
   "id": "20fedfad",
   "metadata": {},
   "outputs": [
    {
     "data": {
      "text/plain": [
       "38734.64148026701"
      ]
     },
     "execution_count": 34,
     "metadata": {},
     "output_type": "execute_result"
    }
   ],
   "source": [
    "ela_reg = ElasticNet(max_iter=5000)\n",
    "ela_reg.fit(train_pre, train[target])\n",
    "np.sqrt(-cross_val_score(ela_reg, train_pre, train[target], scoring='neg_mean_squared_error').mean())"
   ]
  },
  {
   "cell_type": "code",
   "execution_count": 35,
   "id": "45d848fb",
   "metadata": {},
   "outputs": [],
   "source": [
    "model_base = ela_reg"
   ]
  },
  {
   "cell_type": "code",
   "execution_count": 36,
   "id": "f4058485",
   "metadata": {},
   "outputs": [
    {
     "data": {
      "text/plain": [
       "{'alpha': 1.0,\n",
       " 'copy_X': True,\n",
       " 'fit_intercept': True,\n",
       " 'l1_ratio': 0.5,\n",
       " 'max_iter': 5000,\n",
       " 'positive': False,\n",
       " 'precompute': False,\n",
       " 'random_state': None,\n",
       " 'selection': 'cyclic',\n",
       " 'tol': 0.0001,\n",
       " 'warm_start': False}"
      ]
     },
     "execution_count": 36,
     "metadata": {},
     "output_type": "execute_result"
    }
   ],
   "source": [
    "model_base.get_params()"
   ]
  },
  {
   "cell_type": "markdown",
   "id": "5a0d1721",
   "metadata": {},
   "source": [
    "# Model Tune"
   ]
  },
  {
   "cell_type": "code",
   "execution_count": 37,
   "id": "cfef27e9",
   "metadata": {
    "scrolled": true
   },
   "outputs": [
    {
     "name": "stderr",
     "output_type": "stream",
     "text": [
      "C:\\ProgramData\\anaconda3\\Lib\\site-packages\\sklearn\\linear_model\\_coordinate_descent.py:628: ConvergenceWarning: Objective did not converge. You might want to increase the number of iterations, check the scale of the features or consider increasing regularisation. Duality gap: 9.500e+10, tolerance: 5.798e+08\n",
      "  model = cd_fast.enet_coordinate_descent(\n",
      "C:\\ProgramData\\anaconda3\\Lib\\site-packages\\sklearn\\linear_model\\_coordinate_descent.py:628: ConvergenceWarning: Objective did not converge. You might want to increase the number of iterations, check the scale of the features or consider increasing regularisation. Duality gap: 2.968e+10, tolerance: 5.678e+08\n",
      "  model = cd_fast.enet_coordinate_descent(\n"
     ]
    }
   ],
   "source": [
    "from sklearn.model_selection import GridSearchCV\n",
    "params = {\n",
    "    'random_state': [0]\n",
    "    , 'max_iter': [5000]\n",
    "    , 'alpha': np.arange(0.1, 1.0, 0.1)\n",
    "}\n",
    "grid = GridSearchCV(ela_reg, param_grid=params, scoring='neg_mean_squared_error')\n",
    "grid.fit(train_pre, train[target]);"
   ]
  },
  {
   "cell_type": "code",
   "execution_count": 38,
   "id": "3a2fd287",
   "metadata": {},
   "outputs": [
    {
     "data": {
      "text/plain": [
       "{'alpha': 0.9, 'max_iter': 5000, 'random_state': 0}"
      ]
     },
     "execution_count": 38,
     "metadata": {},
     "output_type": "execute_result"
    }
   ],
   "source": [
    "grid.best_params_"
   ]
  },
  {
   "cell_type": "code",
   "execution_count": 39,
   "id": "020baff5",
   "metadata": {},
   "outputs": [],
   "source": [
    "model_tune = ElasticNet(alpha=0.9, max_iter=5000)\n",
    "model_tune.fit(train_pre, train[target]);"
   ]
  },
  {
   "cell_type": "markdown",
   "id": "8f247f34",
   "metadata": {},
   "source": [
    "# Validation"
   ]
  },
  {
   "cell_type": "code",
   "execution_count": 40,
   "id": "0a973f79",
   "metadata": {},
   "outputs": [
    {
     "name": "stderr",
     "output_type": "stream",
     "text": [
      "C:\\ProgramData\\anaconda3\\Lib\\site-packages\\sklearn\\linear_model\\_coordinate_descent.py:628: ConvergenceWarning: Objective did not converge. You might want to increase the number of iterations, check the scale of the features or consider increasing regularisation. Duality gap: 3.840e+10, tolerance: 1.346e+08\n",
      "  model = cd_fast.enet_coordinate_descent(\n",
      "C:\\ProgramData\\anaconda3\\Lib\\site-packages\\sklearn\\linear_model\\_coordinate_descent.py:628: ConvergenceWarning: Objective did not converge. You might want to increase the number of iterations, check the scale of the features or consider increasing regularisation. Duality gap: 3.322e+10, tolerance: 1.776e+08\n",
      "  model = cd_fast.enet_coordinate_descent(\n",
      "C:\\ProgramData\\anaconda3\\Lib\\site-packages\\sklearn\\linear_model\\_coordinate_descent.py:628: ConvergenceWarning: Objective did not converge. You might want to increase the number of iterations, check the scale of the features or consider increasing regularisation. Duality gap: 4.228e+10, tolerance: 1.809e+08\n",
      "  model = cd_fast.enet_coordinate_descent(\n",
      "C:\\ProgramData\\anaconda3\\Lib\\site-packages\\sklearn\\linear_model\\_coordinate_descent.py:628: ConvergenceWarning: Objective did not converge. You might want to increase the number of iterations, check the scale of the features or consider increasing regularisation. Duality gap: 4.110e+10, tolerance: 1.728e+08\n",
      "  model = cd_fast.enet_coordinate_descent(\n"
     ]
    },
    {
     "name": "stdout",
     "output_type": "stream",
     "text": [
      "38734.64148026701 120869.80502809283\n"
     ]
    }
   ],
   "source": [
    "print(\n",
    "np.sqrt(-cross_val_score(model_base, train_pre, train[target], scoring='neg_mean_squared_error').mean())\n",
    ", np.sqrt(-cross_val_score(model_base, test_pre, test[target], scoring='neg_mean_squared_error').mean())\n",
    ")"
   ]
  },
  {
   "cell_type": "code",
   "execution_count": 41,
   "id": "295ed0a5",
   "metadata": {
    "scrolled": true
   },
   "outputs": [
    {
     "name": "stderr",
     "output_type": "stream",
     "text": [
      "C:\\ProgramData\\anaconda3\\Lib\\site-packages\\sklearn\\linear_model\\_coordinate_descent.py:628: ConvergenceWarning: Objective did not converge. You might want to increase the number of iterations, check the scale of the features or consider increasing regularisation. Duality gap: 3.617e+10, tolerance: 1.346e+08\n",
      "  model = cd_fast.enet_coordinate_descent(\n",
      "C:\\ProgramData\\anaconda3\\Lib\\site-packages\\sklearn\\linear_model\\_coordinate_descent.py:628: ConvergenceWarning: Objective did not converge. You might want to increase the number of iterations, check the scale of the features or consider increasing regularisation. Duality gap: 3.092e+10, tolerance: 1.776e+08\n",
      "  model = cd_fast.enet_coordinate_descent(\n",
      "C:\\ProgramData\\anaconda3\\Lib\\site-packages\\sklearn\\linear_model\\_coordinate_descent.py:628: ConvergenceWarning: Objective did not converge. You might want to increase the number of iterations, check the scale of the features or consider increasing regularisation. Duality gap: 4.003e+10, tolerance: 1.809e+08\n",
      "  model = cd_fast.enet_coordinate_descent(\n",
      "C:\\ProgramData\\anaconda3\\Lib\\site-packages\\sklearn\\linear_model\\_coordinate_descent.py:628: ConvergenceWarning: Objective did not converge. You might want to increase the number of iterations, check the scale of the features or consider increasing regularisation. Duality gap: 3.898e+10, tolerance: 1.728e+08\n",
      "  model = cd_fast.enet_coordinate_descent(\n"
     ]
    },
    {
     "name": "stdout",
     "output_type": "stream",
     "text": [
      "38902.687815586374 121451.99296910067\n"
     ]
    }
   ],
   "source": [
    "print(\n",
    "np.sqrt(-cross_val_score(model_tune, train_pre, train[target], scoring='neg_mean_squared_error').mean())\n",
    ", np.sqrt(-cross_val_score(model_tune, test_pre, test[target], scoring='neg_mean_squared_error').mean())\n",
    ")"
   ]
  },
  {
   "cell_type": "markdown",
   "id": "b3cddcf4",
   "metadata": {},
   "source": [
    "# Residual Analysis"
   ]
  },
  {
   "cell_type": "code",
   "execution_count": 42,
   "id": "97bfe99b",
   "metadata": {},
   "outputs": [
    {
     "data": {
      "image/png": "[encoded data removed]",
      "text/plain": [
       "<Figure size 640x480 with 1 Axes>"
      ]
     },
     "metadata": {},
     "output_type": "display_data"
    }
   ],
   "source": [
    "X = model_tune.predict(train_pre)\n",
    "Y = train[target]\n",
    "\n",
    "Xhat = model_tune.predict(test_pre)\n",
    "Yhat = test[target]\n",
    "sns.scatterplot(x=X, y=Y);\n",
    "sns.scatterplot(x=Xhat, y=Yhat);"
   ]
  },
  {
   "cell_type": "code",
   "execution_count": 43,
   "id": "d682cedb",
   "metadata": {},
   "outputs": [],
   "source": [
    "import matplotlib.pyplot as plt"
   ]
  },
  {
   "cell_type": "code",
   "execution_count": 44,
   "id": "b68331bf",
   "metadata": {},
   "outputs": [
    {
     "data": {
      "image/png": "[encoded data removed]",
      "text/plain": [
       "<Figure size 1200x600 with 2 Axes>"
      ]
     },
     "metadata": {},
     "output_type": "display_data"
    }
   ],
   "source": [
    "# Calculate residuals for both training and test data\n",
    "train_residuals = Y - X\n",
    "test_residuals = Yhat - Xhat\n",
    "\n",
    "# Create histograms of residuals\n",
    "plt.figure(figsize=(12, 6))\n",
    "plt.subplot(1, 2, 1)\n",
    "plt.hist(train_residuals, bins=30, color='blue', alpha=0.7)\n",
    "plt.xlabel('Residuals')\n",
    "plt.ylabel('Frequency')\n",
    "plt.title('Training Data: Histogram of Residuals')\n",
    "\n",
    "plt.subplot(1, 2, 2)\n",
    "plt.hist(test_residuals, bins=30, color='red', alpha=0.7)\n",
    "plt.xlabel('Residuals')\n",
    "plt.ylabel('Frequency')\n",
    "plt.title('Test Data: Histogram of Residuals')\n",
    "\n",
    "plt.tight_layout()\n",
    "plt.show()\n"
   ]
  },
  {
   "cell_type": "code",
   "execution_count": null,
   "id": "6035dea1",
   "metadata": {},
   "outputs": [],
   "source": []
  }
 ],
 "metadata": {
  "kernelspec": {
   "display_name": "Python 3 (ipykernel)",
   "language": "python",
   "name": "python3"
  },
  "language_info": {
   "codemirror_mode": {
    "name": "ipython",
    "version": 3
   },
   "file_extension": ".py",
   "mimetype": "text/x-python",
   "name": "python",
   "nbconvert_exporter": "python",
   "pygments_lexer": "ipython3",
   "version": "3.11.4"
  }
 },
 "nbformat": 4,
 "nbformat_minor": 5
}
