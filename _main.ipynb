{
 "cells": [
  {
   "cell_type": "markdown",
   "id": "bed27db2",
   "metadata": {},
   "source": [
    "# Summary\n",
    "Doing LinearRegression and Ridge just leads me\n",
    "to asking more questions.\n",
    "RandomForest just works and I don't really\n",
    "learn anything more.\n",
    "Even though it is the model that dishes out\n",
    "the best score.\n",
    "\n",
    "## What I know so far\n",
    "**Version 4.**\n",
    "I understand that linear regression (LR) is doing way worst\n",
    "in fitting the points.\n",
    "The there seems to be some points that are large outliers\n",
    "when LR is used for prediction.\n",
    "When I use Ridge, the model generalizes it better and \n",
    "the outliers does not pull the model in giving out\n",
    "weird predictions.\n",
    "\n",
    "**Version 3.**\n",
    "RandomForest still wins.\n",
    "This version, I have adjusted the pipeline to transform\n",
    "the features into a polynomial, scaled it.\n",
    "When comparing predictions and true sale prices,\n",
    "the relationship seems to bend upwards.\n",
    "Doing polynomial, keeps the line straight.\n",
    "Need to scale it because of ridge.\n",
    "I also looked at some categorical that had some sort of order\n",
    "with them. I just replaced them with numeric and added them\n",
    "in the pipeline.\n",
    "\n",
    "**Version 2.**\n",
    "Blindly adding all Categorical features.\n",
    "There are some categorical that are in training\n",
    "but are not in testing.\n",
    "So, I just kept running the pipeline and removing\n",
    "problamatic categorical features until it worked.\n",
    "This improved the score.\n",
    "\n",
    "**Version 1.**\n",
    "Blindly added all numerical features only.\n",
    "Nothing fancy. Just wanted to have a baseline.\n",
    "    \n",
    "    \n",
    "## Scoring Versions.\n",
    "    # 4. Linear Regression and Ridge.\n",
    "    # model_base 1.4488670555416282e+16 54538.32600176213\n",
    "    # model_tune 54124.36066008286 55844.18222280358\n",
    "    \n",
    "    # 3. Encoded categorical that are ordered. RandomForest\n",
    "    # model_base 29581.92123767121 45637.69717668411\n",
    "    # model_tune 28454.07259678302 44573.59896205597\n",
    "    \n",
    "    # 2. Include Categorical. RandomForest\n",
    "    # model_base 29761.712624668104 45622.31938365163\n",
    "    # model_tune 30398.282498063614 46175.65530935336\n",
    "    \n",
    "    # 1. Baseline. numeric only. RandomForest\n",
    "    # model_base 30027.52817329832 44130.043234907316\n",
    "    # model_tune 29193.731684252467 44415.39678678987\n",
    "\n",
    "\n",
    "\n",
    "\n",
    "\n",
    "\n",
    "\n",
    "\n",
    "\n",
    "\n",
    "\n",
    "\n",
    "\n",
    "\n",
    "\n",
    "\n",
    "\n",
    "\n",
    "\n",
    "\n",
    "\n",
    "\n",
    "\n",
    "\n",
    "\n",
    "\n",
    "\n",
    "\n",
    "\n",
    "\n",
    "\n",
    "\n",
    "\n",
    "\n",
    "\n",
    "\n",
    "\n"
   ]
  },
  {
   "cell_type": "code",
   "execution_count": 1,
   "id": "9756bcf9",
   "metadata": {},
   "outputs": [],
   "source": [
    "import pandas as pd\n",
    "import numpy as np\n",
    "import seaborn as sns"
   ]
  },
  {
   "cell_type": "code",
   "execution_count": 2,
   "id": "5205222e",
   "metadata": {},
   "outputs": [],
   "source": [
    "df = pd.read_csv('input/train.csv')"
   ]
  },
  {
   "cell_type": "code",
   "execution_count": 3,
   "id": "4dfea06f",
   "metadata": {},
   "outputs": [],
   "source": [
    "num = [x for x in df.columns if df.dtypes[x] in ('int64', 'float')]\n",
    "cat = [x for x in df.columns if df.dtypes[x] == 'object']\n",
    "target = 'SalePrice'\n",
    "num.remove(target)"
   ]
  },
  {
   "cell_type": "code",
   "execution_count": 4,
   "id": "53a52e86",
   "metadata": {},
   "outputs": [],
   "source": [
    "from sklearn.model_selection import train_test_split\n",
    "train, test = train_test_split(df, test_size=.2, random_state=0)"
   ]
  },
  {
   "cell_type": "markdown",
   "id": "ee116727",
   "metadata": {},
   "source": [
    "# Explore"
   ]
  },
  {
   "cell_type": "code",
   "execution_count": 5,
   "id": "961d8446",
   "metadata": {
    "scrolled": true
   },
   "outputs": [
    {
     "data": {
      "text/plain": [
       "SalePrice        1.000000\n",
       "OverallQual      0.790982\n",
       "GrLivArea        0.708624\n",
       "GarageCars       0.640409\n",
       "GarageArea       0.623431\n",
       "TotalBsmtSF      0.613581\n",
       "1stFlrSF         0.605852\n",
       "FullBath         0.560664\n",
       "TotRmsAbvGrd     0.533723\n",
       "YearBuilt        0.522897\n",
       "YearRemodAdd     0.507101\n",
       "GarageYrBlt      0.486362\n",
       "MasVnrArea       0.477493\n",
       "Fireplaces       0.466929\n",
       "BsmtFinSF1       0.386420\n",
       "LotFrontage      0.351799\n",
       "WoodDeckSF       0.324413\n",
       "2ndFlrSF         0.319334\n",
       "OpenPorchSF      0.315856\n",
       "HalfBath         0.284108\n",
       "LotArea          0.263843\n",
       "BsmtFullBath     0.227122\n",
       "BsmtUnfSF        0.214479\n",
       "BedroomAbvGr     0.168213\n",
       "ScreenPorch      0.111447\n",
       "PoolArea         0.092404\n",
       "MoSold           0.046432\n",
       "3SsnPorch        0.044584\n",
       "BsmtFinSF2      -0.011378\n",
       "BsmtHalfBath    -0.016844\n",
       "MiscVal         -0.021190\n",
       "Id              -0.021917\n",
       "LowQualFinSF    -0.025606\n",
       "YrSold          -0.028923\n",
       "OverallCond     -0.077856\n",
       "MSSubClass      -0.084284\n",
       "EnclosedPorch   -0.128578\n",
       "KitchenAbvGr    -0.135907\n",
       "Name: SalePrice, dtype: float64"
      ]
     },
     "execution_count": 5,
     "metadata": {},
     "output_type": "execute_result"
    }
   ],
   "source": [
    "corr = df.corr(numeric_only=True)\n",
    "corr[target].sort_values(ascending=False)"
   ]
  },
  {
   "cell_type": "code",
   "execution_count": 6,
   "id": "70e64931",
   "metadata": {
    "scrolled": true
   },
   "outputs": [
    {
     "data": {
      "text/plain": [
       "MSZoning                                 {FV, RL, RH, RM, C (all)}\n",
       "Street                                                {Pave, Grvl}\n",
       "Alley                                            {Grvl, nan, Pave}\n",
       "LotShape                                      {IR3, IR2, IR1, Reg}\n",
       "LandContour                                   {Lvl, HLS, Bnk, Low}\n",
       "Utilities                                         {NoSeWa, AllPub}\n",
       "LotConfig                      {Inside, Corner, FR3, FR2, CulDSac}\n",
       "LandSlope                                          {Mod, Sev, Gtl}\n",
       "Neighborhood     {Sawyer, StoneBr, Somerst, Gilbert, NPkVill, S...\n",
       "Condition1       {RRNe, Norm, Artery, RRNn, PosA, RRAe, RRAn, P...\n",
       "Condition2                 {Norm, Artery, PosA, RRAe, PosN, Feedr}\n",
       "BldgType                     {Duplex, 2fmCon, 1Fam, Twnhs, TwnhsE}\n",
       "HouseStyle       {2.5Unf, 2Story, SFoyer, 1.5Unf, 2.5Fin, 1.5Fi...\n",
       "RoofStyle               {Shed, Gambrel, Hip, Gable, Flat, Mansard}\n",
       "RoofMatl         {WdShake, WdShngl, Roll, Metal, CompShg, Membr...\n",
       "Exterior1st      {BrkFace, CemntBd, Stone, CBlock, HdBoard, WdS...\n",
       "Exterior2nd      {BrkFace, Stone, CmentBd, Other, Wd Shng, HdBo...\n",
       "MasVnrType                     {BrkFace, BrkCmn, nan, None, Stone}\n",
       "ExterQual                                         {Gd, Ex, Fa, TA}\n",
       "ExterCond                                     {Po, TA, Gd, Ex, Fa}\n",
       "Foundation              {Slab, PConc, Wood, BrkTil, CBlock, Stone}\n",
       "BsmtQual                                     {TA, Gd, nan, Ex, Fa}\n",
       "BsmtCond                                     {Po, TA, Gd, nan, Fa}\n",
       "BsmtExposure                                 {Mn, Gd, No, nan, Av}\n",
       "BsmtFinType1                   {Unf, ALQ, Rec, BLQ, nan, GLQ, LwQ}\n",
       "BsmtFinType2                   {Unf, ALQ, Rec, BLQ, nan, GLQ, LwQ}\n",
       "Heating                      {Floor, GasW, Wall, Grav, OthW, GasA}\n",
       "HeatingQC                                     {Po, TA, Gd, Ex, Fa}\n",
       "CentralAir                                                  {Y, N}\n",
       "Electrical                  {SBrkr, FuseF, FuseA, nan, FuseP, Mix}\n",
       "KitchenQual                                       {TA, Ex, Fa, Gd}\n",
       "Functional                      {Maj2, Mod, Min1, Typ, Min2, Maj1}\n",
       "FireplaceQu                              {Po, TA, Gd, nan, Ex, Fa}\n",
       "GarageType       {2Types, Detchd, Attchd, Basment, BuiltIn, nan...\n",
       "GarageFinish                                  {RFn, nan, Fin, Unf}\n",
       "GarageQual                               {Po, TA, Gd, nan, Ex, Fa}\n",
       "GarageCond                               {Po, TA, Gd, nan, Ex, Fa}\n",
       "PavedDrive                                               {N, Y, P}\n",
       "PoolQC                                           {Gd, Ex, nan, Fa}\n",
       "Fence                              {GdPrv, MnPrv, nan, MnWw, GdWo}\n",
       "MiscFeature                                {Gar2, Shed, nan, Othr}\n",
       "SaleType         {ConLD, Con, ConLw, Oth, New, COD, CWD, ConLI,...\n",
       "SaleCondition    {AdjLand, Partial, Family, Alloca, Normal, Abn...\n",
       "dtype: object"
      ]
     },
     "execution_count": 6,
     "metadata": {},
     "output_type": "execute_result"
    }
   ],
   "source": [
    "train[cat].apply(lambda x:set(x))"
   ]
  },
  {
   "cell_type": "code",
   "execution_count": 7,
   "id": "7c5eaffa",
   "metadata": {},
   "outputs": [
    {
     "data": {
      "text/plain": [
       "TA    729\n",
       "Gd    388\n",
       "Ex     39\n",
       "Fa     12\n",
       "Name: ExterQual, dtype: int64"
      ]
     },
     "execution_count": 7,
     "metadata": {},
     "output_type": "execute_result"
    }
   ],
   "source": [
    "train['ExterQual'].value_counts()"
   ]
  },
  {
   "cell_type": "markdown",
   "id": "12103d1e",
   "metadata": {},
   "source": [
    "# Pipeline"
   ]
  },
  {
   "cell_type": "code",
   "execution_count": 8,
   "id": "c3775566",
   "metadata": {},
   "outputs": [],
   "source": [
    "num_pk = [x for x in num if x not in ('Id')]\n",
    "cat_pk = ['ExterQual', 'ExterCond', 'BsmtQual', 'BsmtCond'\n",
    "          , 'BsmtExposure', 'BsmtFinType1', 'BsmtFinType2'\n",
    "          , 'HeatingQC', 'KitchenQual', 'FireplaceQu', 'GarageQual', 'GarageCond', 'PoolQC']"
   ]
  },
  {
   "cell_type": "code",
   "execution_count": 9,
   "id": "9c63d7f7",
   "metadata": {},
   "outputs": [],
   "source": [
    "blu = {\n",
    "    'ExterQual': {'key': ['Ex','Gd','TA','Fa','Po'], 'val': [5,4,3,2,1]}\n",
    "    , 'ExterCond': {'key': ['Ex','Gd','TA','Fa','Po'], 'val': [5,4,3,2,1]}\n",
    "    , 'BsmtQual': {'key': ['Ex','Gd','TA','Fa','Po'], 'val': [5,4,3,2,1]}\n",
    "    , 'BsmtCond': {'key': ['Ex','Gd','TA','Fa','Po'], 'val': [5,4,3,2,1]}\n",
    "    , 'BsmtExposure': {'key': ['Gd','Av','Mn','No'], 'val': [3,2,1,0]}\n",
    "    , 'BsmtFinType1': {'key': ['GLQ','ALQ','BLQ','Rec','LWQ','Unf'], 'val': [5,4,3,2,1,0]}\n",
    "    , 'BsmtFinType2': {'key': ['GLQ','ALQ','BLQ','Rec','LWQ','Unf'], 'val': [5,4,3,2,1,0]}\n",
    "    , 'HeatingQC': {'key': ['Ex','Gd','TA','Fa','Po'], 'val': [5,4,3,2,1]}\n",
    "    , 'KitchenQual': {'key': ['Ex','Gd','TA','Fa','Po'], 'val': [5,4,3,2,1]}\n",
    "    , 'FireplaceQu': {'key': ['Ex','Gd','TA','Fa','Po'], 'val': [5,4,3,2,1]}\n",
    "    , 'GarageQual': {'key': ['Ex','Gd','TA','Fa','Po'], 'val': [5,4,3,2,1]}\n",
    "    , 'GarageCond': {'key': ['Ex','Gd','TA','Fa','Po'], 'val': [5,4,3,2,1]}\n",
    "    , 'PoolQC': {'key': ['Ex','Gd','TA','Fa','Po'], 'val': [5,4,3,2,1]}\n",
    "}"
   ]
  },
  {
   "cell_type": "code",
   "execution_count": 10,
   "id": "cb12323f",
   "metadata": {},
   "outputs": [],
   "source": [
    "from sklearn.pipeline import Pipeline, FeatureUnion\n",
    "from sklearn.preprocessing import OneHotEncoder, StandardScaler, PolynomialFeatures\n",
    "from sklearn.impute import SimpleImputer\n",
    "from sklearn.base import BaseEstimator, TransformerMixin"
   ]
  },
  {
   "cell_type": "code",
   "execution_count": 11,
   "id": "eb82cf3f",
   "metadata": {},
   "outputs": [],
   "source": [
    "class DataSelect(BaseEstimator, TransformerMixin):\n",
    "    def __init__(self, attributes):\n",
    "        self.attributes = attributes\n",
    "    def fit(self, X, y=None):\n",
    "        return self\n",
    "    def transform(self, X, y=None):\n",
    "        return X[self.attributes]\n",
    "    \n",
    "class CustomEncode(BaseEstimator, TransformerMixin):\n",
    "    def __init__(self, led):\n",
    "        self.led = led\n",
    "    def fit(self, X, y=None):\n",
    "        return self\n",
    "    def transform(self, X, y=None):\n",
    "        dat = {}\n",
    "        for itm in self.led:\n",
    "            dat['y_'+itm] = X[itm].map({x:y for x,y in zip(self.led[itm]['key']\n",
    "                                                               , self.led[itm]['val'])})\n",
    "        return pd.DataFrame(dat).fillna(0)"
   ]
  },
  {
   "cell_type": "code",
   "execution_count": 12,
   "id": "881f07bb",
   "metadata": {},
   "outputs": [],
   "source": [
    "num_pp = Pipeline([\n",
    "    ('dataselect', DataSelect(num_pk))\n",
    "    , ('impute', SimpleImputer(strategy='median'))\n",
    "    , ('poly', PolynomialFeatures())\n",
    "    , ('scaler', StandardScaler())\n",
    "])\n",
    "\n",
    "cat_pp = Pipeline([\n",
    "    ('dataselect', DataSelect(cat_pk))\n",
    "    , ('customencode', CustomEncode(blu))\n",
    "    , ('poly', PolynomialFeatures())\n",
    "    , ('scaler', StandardScaler())\n",
    "])\n",
    "\n",
    "pipe = FeatureUnion([\n",
    "    ('numeric', num_pp)\n",
    "    , ('categorical', cat_pp)\n",
    "])\n",
    "\n",
    "pipe.fit(train)\n",
    "train_pre = pipe.transform(train)\n",
    "test_pre = pipe.transform(test)"
   ]
  },
  {
   "cell_type": "markdown",
   "id": "745e333a",
   "metadata": {},
   "source": [
    "# Select Model"
   ]
  },
  {
   "cell_type": "code",
   "execution_count": 13,
   "id": "90d711d8",
   "metadata": {},
   "outputs": [],
   "source": [
    "from sklearn.model_selection import cross_val_score\n",
    "from sklearn.linear_model import LinearRegression\n",
    "from sklearn.linear_model import Ridge, Lasso, ElasticNet"
   ]
  },
  {
   "cell_type": "code",
   "execution_count": 28,
   "id": "1ec2cbd9",
   "metadata": {},
   "outputs": [
    {
     "name": "stdout",
     "output_type": "stream",
     "text": [
      "1.4488670555416282e+16\n",
      "54538.32600176213\n"
     ]
    }
   ],
   "source": [
    "lin_reg = LinearRegression()\n",
    "lin_reg.fit(train_pre, train[target])\n",
    "print(np.sqrt(-cross_val_score(lin_reg, train_pre, train[target], scoring='neg_mean_squared_error').mean()))\n",
    "print(np.sqrt(-cross_val_score(lin_reg, test_pre, test[target], scoring='neg_mean_squared_error').mean()))"
   ]
  },
  {
   "cell_type": "code",
   "execution_count": 29,
   "id": "6538c141",
   "metadata": {},
   "outputs": [
    {
     "name": "stdout",
     "output_type": "stream",
     "text": [
      "54124.36066008286\n",
      "55844.18222280358\n"
     ]
    }
   ],
   "source": [
    "rid_reg = Ridge()\n",
    "rid_reg.fit(train_pre, train[target])\n",
    "print(np.sqrt(-cross_val_score(rid_reg, train_pre, train[target], scoring='neg_mean_squared_error').mean()))\n",
    "print(np.sqrt(-cross_val_score(rid_reg, test_pre, test[target], scoring='neg_mean_squared_error').mean()))"
   ]
  },
  {
   "cell_type": "code",
   "execution_count": 16,
   "id": "d2fb064e",
   "metadata": {},
   "outputs": [
    {
     "data": {
      "text/plain": [
       "{'copy_X': True, 'fit_intercept': True, 'n_jobs': None, 'positive': False}"
      ]
     },
     "execution_count": 16,
     "metadata": {},
     "output_type": "execute_result"
    }
   ],
   "source": [
    "model_base = lin_reg"
   ]
  },
  {
   "cell_type": "markdown",
   "id": "aa8d4984",
   "metadata": {},
   "source": [
    "# Tune Model"
   ]
  },
  {
   "cell_type": "code",
   "execution_count": 18,
   "id": "9b85f1e6",
   "metadata": {},
   "outputs": [],
   "source": [
    "model_tune = Ridge()\n",
    "model_tune.fit(train_pre, train[target]);"
   ]
  },
  {
   "cell_type": "markdown",
   "id": "757399d2",
   "metadata": {},
   "source": [
    "# Validation"
   ]
  },
  {
   "cell_type": "code",
   "execution_count": 19,
   "id": "afd87944",
   "metadata": {},
   "outputs": [
    {
     "name": "stdout",
     "output_type": "stream",
     "text": [
      "model_base 1.4488670555416282e+16 54538.32600176213\n"
     ]
    }
   ],
   "source": [
    "print('model_base'\n",
    ", np.sqrt(-cross_val_score(model_base, train_pre, train[target], scoring='neg_mean_squared_error').mean())\n",
    ", np.sqrt(-cross_val_score(model_base, test_pre, test[target], scoring='neg_mean_squared_error').mean())\n",
    ")"
   ]
  },
  {
   "cell_type": "code",
   "execution_count": 20,
   "id": "668b7e8e",
   "metadata": {},
   "outputs": [
    {
     "name": "stdout",
     "output_type": "stream",
     "text": [
      "model_tune 54124.36066008286 55844.18222280358\n"
     ]
    }
   ],
   "source": [
    "print('model_tune'\n",
    ", np.sqrt(-cross_val_score(model_tune, train_pre, train[target], scoring='neg_mean_squared_error').mean())\n",
    ", np.sqrt(-cross_val_score(model_tune, test_pre, test[target], scoring='neg_mean_squared_error').mean())\n",
    ")"
   ]
  },
  {
   "cell_type": "markdown",
   "id": "3b748e66",
   "metadata": {},
   "source": [
    "# Submission"
   ]
  },
  {
   "cell_type": "code",
   "execution_count": 21,
   "id": "9760d9b8",
   "metadata": {},
   "outputs": [],
   "source": [
    "samp = pd.read_csv('input/test.csv')\n",
    "pd.DataFrame({\n",
    "    'Id': samp['Id']\n",
    "    , 'SalePrice': model_tune.predict(pipe.transform(samp))\n",
    "}).to_csv('submission.csv', index=False)"
   ]
  },
  {
   "cell_type": "markdown",
   "id": "cfda83fa",
   "metadata": {},
   "source": [
    "# Residual Analysis"
   ]
  },
  {
   "cell_type": "code",
   "execution_count": 26,
   "id": "7cb0b545",
   "metadata": {},
   "outputs": [
    {
     "data": {
      "image/png": "[encoded data removed]",
      "text/plain": [
       "<Figure size 640x480 with 1 Axes>"
      ]
     },
     "metadata": {},
     "output_type": "display_data"
    }
   ],
   "source": [
    "X = model_base.predict(train_pre)\n",
    "Y = train[target]\n",
    "Xhat = lin_reg.predict(test_pre)\n",
    "Yhat = test[target]\n",
    "sns.scatterplot(x=X, y=Y);\n",
    "sns.scatterplot(x=Xhat, y=Yhat);"
   ]
  },
  {
   "cell_type": "code",
   "execution_count": 27,
   "id": "09b01749",
   "metadata": {},
   "outputs": [
    {
     "data": {
      "image/png": "[encoded data removed]",
      "text/plain": [
       "<Figure size 640x480 with 1 Axes>"
      ]
     },
     "metadata": {},
     "output_type": "display_data"
    }
   ],
   "source": [
    "X = model_tune.predict(train_pre)\n",
    "Y = train[target]\n",
    "Xhat = rid_reg.predict(test_pre)\n",
    "Yhat = test[target]\n",
    "sns.scatterplot(x=X, y=Y);\n",
    "sns.scatterplot(x=Xhat, y=Yhat);"
   ]
  },
  {
   "cell_type": "code",
   "execution_count": null,
   "id": "ef6355be",
   "metadata": {},
   "outputs": [],
   "source": []
  }
 ],
 "metadata": {
  "kernelspec": {
   "display_name": "Python 3 (ipykernel)",
   "language": "python",
   "name": "python3"
  },
  "language_info": {
   "codemirror_mode": {
    "name": "ipython",
    "version": 3
   },
   "file_extension": ".py",
   "mimetype": "text/x-python",
   "name": "python",
   "nbconvert_exporter": "python",
   "pygments_lexer": "ipython3",
   "version": "3.11.4"
  }
 },
 "nbformat": 4,
 "nbformat_minor": 5
}
